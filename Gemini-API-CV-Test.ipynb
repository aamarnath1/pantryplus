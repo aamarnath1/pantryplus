{
 "cells": [
  {
   "cell_type": "code",
   "execution_count": 1,
   "id": "84583f05-4385-49b6-a5c0-38cd99a80fb8",
   "metadata": {},
   "outputs": [
    {
     "name": "stdout",
     "output_type": "stream",
     "text": [
      "CUDA available: True\n",
      "GPU Name: NVIDIA GeForce RTX 3070\n",
      "GPU Properties: _CudaDeviceProperties(name='NVIDIA GeForce RTX 3070', major=8, minor=6, total_memory=8191MB, multi_processor_count=46)\n"
     ]
    }
   ],
   "source": [
    "import torch\n",
    "\n",
    "# Check if CUDA is available\n",
    "cuda_available = torch.cuda.is_available()\n",
    "print(f\"CUDA available: {cuda_available}\")\n",
    "\n",
    "# Print GPU information if CUDA is available\n",
    "if cuda_available:\n",
    "    print(f\"GPU Name: {torch.cuda.get_device_name(0)}\")\n",
    "    print(f\"GPU Properties: {torch.cuda.get_device_properties(0)}\")\n",
    "else:\n",
    "    print(\"CUDA is not available. Check your installation.\")\n"
   ]
  },
  {
   "cell_type": "code",
   "execution_count": null,
   "id": "bad9a458-dbe1-454f-9226-10a8adac2add",
   "metadata": {},
   "outputs": [],
   "source": []
  }
 ],
 "metadata": {
  "kernelspec": {
   "display_name": "Python 3 (ipykernel)",
   "language": "python",
   "name": "python3"
  },
  "language_info": {
   "codemirror_mode": {
    "name": "ipython",
    "version": 3
   },
   "file_extension": ".py",
   "mimetype": "text/x-python",
   "name": "python",
   "nbconvert_exporter": "python",
   "pygments_lexer": "ipython3",
   "version": "3.11.9"
  }
 },
 "nbformat": 4,
 "nbformat_minor": 5
}
